{
  "nbformat": 4,
  "nbformat_minor": 0,
  "metadata": {
    "colab": {
      "provenance": [],
      "collapsed_sections": [],
      "authorship_tag": "ABX9TyOCh63P76FOys6UqaHzimQK",
      "include_colab_link": true
    },
    "kernelspec": {
      "name": "python3",
      "display_name": "Python 3"
    },
    "language_info": {
      "name": "python"
    }
  },
  "cells": [
    {
      "cell_type": "markdown",
      "metadata": {
        "id": "view-in-github",
        "colab_type": "text"
      },
      "source": [
        "<a href=\"https://colab.research.google.com/github/Mounaiyk/practice-data-manipulation/blob/main/practice.ipynb\" target=\"_parent\"><img src=\"https://colab.research.google.com/assets/colab-badge.svg\" alt=\"Open In Colab\"/></a>"
      ]
    },
    {
      "cell_type": "markdown",
      "source": [
        "**Import packages**"
      ],
      "metadata": {
        "id": "TpJBuUDyGNfc"
      }
    },
    {
      "cell_type": "code",
      "execution_count": null,
      "metadata": {
        "id": "FzvXQ0lUFwb2"
      },
      "outputs": [],
      "source": [
        "import requests\n",
        "import json\n",
        "import csv\n",
        "import pandas as pd"
      ]
    },
    {
      "cell_type": "markdown",
      "source": [
        "**Fetch Data**"
      ],
      "metadata": {
        "id": "_8OC7QrxGHLE"
      }
    },
    {
      "cell_type": "code",
      "source": [
        "response = requests.get(\"https://anapioficeandfire.com/api/houses/378\")\n",
        "targaryen_house = response.json()\n",
        "targaryen = []\n",
        "# resp = requests.get(targaryen_house[\"swornMembers\"][0])\n",
        "# print(resp.json())\n",
        "for x in targaryen_house[\"swornMembers\"]:\n",
        "  response = requests.get(x)\n",
        "  targaryen.append(response.json())"
      ],
      "metadata": {
        "id": "8yzNOzvWF5E_"
      },
      "execution_count": null,
      "outputs": []
    },
    {
      "cell_type": "markdown",
      "source": [
        "**Select relevant data**"
      ],
      "metadata": {
        "id": "kQder6XAOqmG"
      }
    },
    {
      "cell_type": "code",
      "source": [
        "def select_data(data):\n",
        "  return {\n",
        "      \"name\":data[\"name\"],\n",
        "      \"gender\":data[\"gender\"],\n",
        "      \"culture\":data[\"culture\"],\n",
        "      \"born\":data[\"born\"],\n",
        "      \"died\":data[\"died\"],\n",
        "      \"titles\":data[\"titles\"],\n",
        "  }\n",
        "\n",
        "targaryens = []\n",
        "\n",
        "for x in targaryen:\n",
        "  targaryens.append(select_data(x))\n"
      ],
      "metadata": {
        "id": "f3tFJ-hfOvR8"
      },
      "execution_count": null,
      "outputs": []
    },
    {
      "cell_type": "markdown",
      "source": [
        "**Create csv**"
      ],
      "metadata": {
        "id": "-S5GgqqrQwTN"
      }
    },
    {
      "cell_type": "code",
      "source": [
        "columns = [\"name\", \"gender\", \"culture\", \"born\", \"died\", \"titles\"]\n",
        "\n",
        "with open('targaryen.csv',\"w\", newline='' ) as file:\n",
        "  f = csv.writer(file)\n",
        "  f.writerow(columns)\n",
        "  for t in targaryens:\n",
        "    values = [t[c] for c in columns]\n",
        "    f.writerow(values)"
      ],
      "metadata": {
        "id": "-7rP-_plQyoF"
      },
      "execution_count": null,
      "outputs": []
    },
    {
      "cell_type": "code",
      "source": [
        "df = pd.read_csv(\"targaryen.csv\")"
      ],
      "metadata": {
        "id": "rCTnXsJBSarw"
      },
      "execution_count": null,
      "outputs": []
    },
    {
      "cell_type": "code",
      "source": [
        "df.head()"
      ],
      "metadata": {
        "colab": {
          "base_uri": "https://localhost:8080/",
          "height": 206
        },
        "id": "_wmtEMFrSxi-",
        "outputId": "5e860b81-ba64-4c1f-8da4-5f544307a7c0"
      },
      "execution_count": null,
      "outputs": [
        {
          "output_type": "execute_result",
          "data": {
            "text/plain": [
              "              name gender   culture                                 born  \\\n",
              "0   Addam Velaryon   Male  Valyrian                   In 114 AC, at Hull   \n",
              "1  Aegon Targaryen   Male  Valyrian  In 281 AC or 282 AC, at Dragonstone   \n",
              "2  Aegon Targaryen   Male  Valyrian                             In 26 AC   \n",
              "3  Aegon Targaryen   Male  Valyrian                                  NaN   \n",
              "4  Aegon Targaryen   Male  Valyrian        In or between 50 AC and 59 AC   \n",
              "\n",
              "                                        died      titles  \n",
              "0                    In 130 AC, at Tumbleton     ['Ser']  \n",
              "1  In 283 AC (Supposedly), at King's Landing        ['']  \n",
              "2                      In 43 AC, at Gods Eye  ['Prince']  \n",
              "3                                        NaN  ['Prince']  \n",
              "4                                        NaN  ['Prince']  "
            ],
            "text/html": [
              "\n",
              "  <div id=\"df-6c977823-1504-4e09-a7cc-a30c2f236529\">\n",
              "    <div class=\"colab-df-container\">\n",
              "      <div>\n",
              "<style scoped>\n",
              "    .dataframe tbody tr th:only-of-type {\n",
              "        vertical-align: middle;\n",
              "    }\n",
              "\n",
              "    .dataframe tbody tr th {\n",
              "        vertical-align: top;\n",
              "    }\n",
              "\n",
              "    .dataframe thead th {\n",
              "        text-align: right;\n",
              "    }\n",
              "</style>\n",
              "<table border=\"1\" class=\"dataframe\">\n",
              "  <thead>\n",
              "    <tr style=\"text-align: right;\">\n",
              "      <th></th>\n",
              "      <th>name</th>\n",
              "      <th>gender</th>\n",
              "      <th>culture</th>\n",
              "      <th>born</th>\n",
              "      <th>died</th>\n",
              "      <th>titles</th>\n",
              "    </tr>\n",
              "  </thead>\n",
              "  <tbody>\n",
              "    <tr>\n",
              "      <th>0</th>\n",
              "      <td>Addam Velaryon</td>\n",
              "      <td>Male</td>\n",
              "      <td>Valyrian</td>\n",
              "      <td>In 114 AC, at Hull</td>\n",
              "      <td>In 130 AC, at Tumbleton</td>\n",
              "      <td>['Ser']</td>\n",
              "    </tr>\n",
              "    <tr>\n",
              "      <th>1</th>\n",
              "      <td>Aegon Targaryen</td>\n",
              "      <td>Male</td>\n",
              "      <td>Valyrian</td>\n",
              "      <td>In 281 AC or 282 AC, at Dragonstone</td>\n",
              "      <td>In 283 AC (Supposedly), at King's Landing</td>\n",
              "      <td>['']</td>\n",
              "    </tr>\n",
              "    <tr>\n",
              "      <th>2</th>\n",
              "      <td>Aegon Targaryen</td>\n",
              "      <td>Male</td>\n",
              "      <td>Valyrian</td>\n",
              "      <td>In 26 AC</td>\n",
              "      <td>In 43 AC, at Gods Eye</td>\n",
              "      <td>['Prince']</td>\n",
              "    </tr>\n",
              "    <tr>\n",
              "      <th>3</th>\n",
              "      <td>Aegon Targaryen</td>\n",
              "      <td>Male</td>\n",
              "      <td>Valyrian</td>\n",
              "      <td>NaN</td>\n",
              "      <td>NaN</td>\n",
              "      <td>['Prince']</td>\n",
              "    </tr>\n",
              "    <tr>\n",
              "      <th>4</th>\n",
              "      <td>Aegon Targaryen</td>\n",
              "      <td>Male</td>\n",
              "      <td>Valyrian</td>\n",
              "      <td>In or between 50 AC and 59 AC</td>\n",
              "      <td>NaN</td>\n",
              "      <td>['Prince']</td>\n",
              "    </tr>\n",
              "  </tbody>\n",
              "</table>\n",
              "</div>\n",
              "      <button class=\"colab-df-convert\" onclick=\"convertToInteractive('df-6c977823-1504-4e09-a7cc-a30c2f236529')\"\n",
              "              title=\"Convert this dataframe to an interactive table.\"\n",
              "              style=\"display:none;\">\n",
              "        \n",
              "  <svg xmlns=\"http://www.w3.org/2000/svg\" height=\"24px\"viewBox=\"0 0 24 24\"\n",
              "       width=\"24px\">\n",
              "    <path d=\"M0 0h24v24H0V0z\" fill=\"none\"/>\n",
              "    <path d=\"M18.56 5.44l.94 2.06.94-2.06 2.06-.94-2.06-.94-.94-2.06-.94 2.06-2.06.94zm-11 1L8.5 8.5l.94-2.06 2.06-.94-2.06-.94L8.5 2.5l-.94 2.06-2.06.94zm10 10l.94 2.06.94-2.06 2.06-.94-2.06-.94-.94-2.06-.94 2.06-2.06.94z\"/><path d=\"M17.41 7.96l-1.37-1.37c-.4-.4-.92-.59-1.43-.59-.52 0-1.04.2-1.43.59L10.3 9.45l-7.72 7.72c-.78.78-.78 2.05 0 2.83L4 21.41c.39.39.9.59 1.41.59.51 0 1.02-.2 1.41-.59l7.78-7.78 2.81-2.81c.8-.78.8-2.07 0-2.86zM5.41 20L4 18.59l7.72-7.72 1.47 1.35L5.41 20z\"/>\n",
              "  </svg>\n",
              "      </button>\n",
              "      \n",
              "  <style>\n",
              "    .colab-df-container {\n",
              "      display:flex;\n",
              "      flex-wrap:wrap;\n",
              "      gap: 12px;\n",
              "    }\n",
              "\n",
              "    .colab-df-convert {\n",
              "      background-color: #E8F0FE;\n",
              "      border: none;\n",
              "      border-radius: 50%;\n",
              "      cursor: pointer;\n",
              "      display: none;\n",
              "      fill: #1967D2;\n",
              "      height: 32px;\n",
              "      padding: 0 0 0 0;\n",
              "      width: 32px;\n",
              "    }\n",
              "\n",
              "    .colab-df-convert:hover {\n",
              "      background-color: #E2EBFA;\n",
              "      box-shadow: 0px 1px 2px rgba(60, 64, 67, 0.3), 0px 1px 3px 1px rgba(60, 64, 67, 0.15);\n",
              "      fill: #174EA6;\n",
              "    }\n",
              "\n",
              "    [theme=dark] .colab-df-convert {\n",
              "      background-color: #3B4455;\n",
              "      fill: #D2E3FC;\n",
              "    }\n",
              "\n",
              "    [theme=dark] .colab-df-convert:hover {\n",
              "      background-color: #434B5C;\n",
              "      box-shadow: 0px 1px 3px 1px rgba(0, 0, 0, 0.15);\n",
              "      filter: drop-shadow(0px 1px 2px rgba(0, 0, 0, 0.3));\n",
              "      fill: #FFFFFF;\n",
              "    }\n",
              "  </style>\n",
              "\n",
              "      <script>\n",
              "        const buttonEl =\n",
              "          document.querySelector('#df-6c977823-1504-4e09-a7cc-a30c2f236529 button.colab-df-convert');\n",
              "        buttonEl.style.display =\n",
              "          google.colab.kernel.accessAllowed ? 'block' : 'none';\n",
              "\n",
              "        async function convertToInteractive(key) {\n",
              "          const element = document.querySelector('#df-6c977823-1504-4e09-a7cc-a30c2f236529');\n",
              "          const dataTable =\n",
              "            await google.colab.kernel.invokeFunction('convertToInteractive',\n",
              "                                                     [key], {});\n",
              "          if (!dataTable) return;\n",
              "\n",
              "          const docLinkHtml = 'Like what you see? Visit the ' +\n",
              "            '<a target=\"_blank\" href=https://colab.research.google.com/notebooks/data_table.ipynb>data table notebook</a>'\n",
              "            + ' to learn more about interactive tables.';\n",
              "          element.innerHTML = '';\n",
              "          dataTable['output_type'] = 'display_data';\n",
              "          await google.colab.output.renderOutput(dataTable, element);\n",
              "          const docLink = document.createElement('div');\n",
              "          docLink.innerHTML = docLinkHtml;\n",
              "          element.appendChild(docLink);\n",
              "        }\n",
              "      </script>\n",
              "    </div>\n",
              "  </div>\n",
              "  "
            ]
          },
          "metadata": {},
          "execution_count": 24
        }
      ]
    }
  ]
}
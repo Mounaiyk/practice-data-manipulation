{
  "nbformat": 4,
  "nbformat_minor": 0,
  "metadata": {
    "colab": {
      "provenance": [],
      "collapsed_sections": [],
      "authorship_tag": "ABX9TyMjVhtv2PwGHyfy1+i3aBTg",
      "include_colab_link": true
    },
    "kernelspec": {
      "name": "python3",
      "display_name": "Python 3"
    },
    "language_info": {
      "name": "python"
    }
  },
  "cells": [
    {
      "cell_type": "markdown",
      "metadata": {
        "id": "view-in-github",
        "colab_type": "text"
      },
      "source": [
        "<a href=\"https://colab.research.google.com/github/Mounaiyk/practice-data-manipulation/blob/main/practice.ipynb\" target=\"_parent\"><img src=\"https://colab.research.google.com/assets/colab-badge.svg\" alt=\"Open In Colab\"/></a>"
      ]
    },
    {
      "cell_type": "markdown",
      "source": [
        "**Import packages**"
      ],
      "metadata": {
        "id": "TpJBuUDyGNfc"
      }
    },
    {
      "cell_type": "code",
      "execution_count": 30,
      "metadata": {
        "id": "FzvXQ0lUFwb2"
      },
      "outputs": [],
      "source": [
        "import requests\n",
        "import json\n",
        "import csv\n",
        "import pandas as pd\n",
        "import seaborn as sns\n",
        "import matplotlib.pyplot as plt\n",
        "from numpy import nan"
      ]
    },
    {
      "cell_type": "markdown",
      "source": [
        "**Fetch Data**"
      ],
      "metadata": {
        "id": "_8OC7QrxGHLE"
      }
    },
    {
      "cell_type": "code",
      "source": [
        "response = requests.get(\"https://anapioficeandfire.com/api/houses/378\")\n",
        "targaryen_house = response.json()\n",
        "targaryen = []\n",
        "# resp = requests.get(targaryen_house[\"swornMembers\"][0])\n",
        "# print(resp.json())\n",
        "for x in targaryen_house[\"swornMembers\"]:\n",
        "  response = requests.get(x)\n",
        "  targaryen.append(response.json())"
      ],
      "metadata": {
        "id": "8yzNOzvWF5E_"
      },
      "execution_count": null,
      "outputs": []
    },
    {
      "cell_type": "markdown",
      "source": [
        "**Select relevant data**"
      ],
      "metadata": {
        "id": "kQder6XAOqmG"
      }
    },
    {
      "cell_type": "code",
      "source": [
        "def select_data(data):\n",
        "  return {\n",
        "      \"name\":data[\"name\"],\n",
        "      \"gender\":data[\"gender\"],\n",
        "      \"culture\":data[\"culture\"],\n",
        "      \"born\":data[\"born\"],\n",
        "      \"died\":data[\"died\"],\n",
        "      \"titles\":data[\"titles\"],\n",
        "  }\n",
        "\n",
        "targaryens = []\n",
        "\n",
        "for x in targaryen:\n",
        "  targaryens.append(select_data(x))\n"
      ],
      "metadata": {
        "id": "f3tFJ-hfOvR8"
      },
      "execution_count": null,
      "outputs": []
    },
    {
      "cell_type": "markdown",
      "source": [
        "**Create csv**"
      ],
      "metadata": {
        "id": "-S5GgqqrQwTN"
      }
    },
    {
      "cell_type": "code",
      "source": [
        "columns = [\"name\", \"gender\", \"culture\", \"born\", \"died\", \"titles\"]\n",
        "\n",
        "with open('targaryen.csv',\"w\", newline='' ) as file:\n",
        "  f = csv.writer(file)\n",
        "  f.writerow(columns)\n",
        "  for t in targaryens:\n",
        "    values = [t[c] for c in columns]\n",
        "    f.writerow(values)"
      ],
      "metadata": {
        "id": "-7rP-_plQyoF"
      },
      "execution_count": null,
      "outputs": []
    },
    {
      "cell_type": "code",
      "source": [
        "df = pd.read_csv(\"targaryen.csv\")"
      ],
      "metadata": {
        "id": "rCTnXsJBSarw"
      },
      "execution_count": null,
      "outputs": []
    },
    {
      "cell_type": "code",
      "source": [
        "df['died'].isna().sum()"
      ],
      "metadata": {
        "colab": {
          "base_uri": "https://localhost:8080/"
        },
        "id": "_wmtEMFrSxi-",
        "outputId": "a43b5f09-bb05-4c95-ec05-b7461b92fb54"
      },
      "execution_count": 29,
      "outputs": [
        {
          "output_type": "execute_result",
          "data": {
            "text/plain": [
              "49"
            ]
          },
          "metadata": {},
          "execution_count": 29
        }
      ]
    },
    {
      "cell_type": "code",
      "source": [
        "sns.countplot(df['gender'])"
      ],
      "metadata": {
        "colab": {
          "base_uri": "https://localhost:8080/",
          "height": 351
        },
        "id": "T1tlANejYLIz",
        "outputId": "163c6c3b-720f-4685-f010-0f45b19169e7"
      },
      "execution_count": 34,
      "outputs": [
        {
          "output_type": "stream",
          "name": "stderr",
          "text": [
            "/usr/local/lib/python3.7/dist-packages/seaborn/_decorators.py:43: FutureWarning: Pass the following variable as a keyword arg: x. From version 0.12, the only valid positional argument will be `data`, and passing other arguments without an explicit keyword will result in an error or misinterpretation.\n",
            "  FutureWarning\n"
          ]
        },
        {
          "output_type": "execute_result",
          "data": {
            "text/plain": [
              "<matplotlib.axes._subplots.AxesSubplot at 0x7f3c1a6769d0>"
            ]
          },
          "metadata": {},
          "execution_count": 34
        },
        {
          "output_type": "display_data",
          "data": {
            "text/plain": [
              "<Figure size 432x288 with 1 Axes>"
            ],
            "image/png": "[encoded data removed]"
          },
          "metadata": {
            "needs_background": "light"
          }
        }
      ]
    },
    {
      "cell_type": "code",
      "source": [
        "df[\"titles\"] = df['titles'].replace(\"['']\", nan)"
      ],
      "metadata": {
        "id": "oi-pYIAvZ4e6"
      },
      "execution_count": 37,
      "outputs": []
    },
    {
      "cell_type": "code",
      "source": [
        "no_titles = df[\"titles\"].isna().sum()\n",
        "titles = df.shape[0] - no_titles\n",
        "\n",
        "print(titles)\n",
        "print(no_titles)\n"
      ],
      "metadata": {
        "colab": {
          "base_uri": "https://localhost:8080/"
        },
        "id": "UJC2p5NmZ-AP",
        "outputId": "101a23a7-c905-4d96-96e9-fec28f81b7e9"
      },
      "execution_count": 43,
      "outputs": [
        {
          "output_type": "stream",
          "name": "stdout",
          "text": [
            "79\n",
            "22\n"
          ]
        }
      ]
    }
  ]
}